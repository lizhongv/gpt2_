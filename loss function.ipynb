{
 "cells": [
  {
   "cell_type": "markdown",
   "id": "4784986e",
   "metadata": {},
   "source": [
    "torch.nn 模块与torch.nn.functional区别：\n",
    "\n",
    "import tortch.nn as nn\n",
    "- torch.nn 通常用于定义和组装神经网络的模型、层和损失函数等，例如 nn.Linear, nn.RNN, nn.CrossEntropyLoss。\n",
    "- torch.nn 该模块是面向对象的，需要创建层对象并将它们组装成模型类，通常需要定义一个继承自 nn.Module的类，并实现forward方法来定义前向传播\n",
    "\n",
    "import torch.nn.functional as F\n",
    "- F 提供一系列的函数接口，用于执行各种Tensor的操作，如激活函数、池化、归一化等\n",
    "- F 无状态的。不包含任何可学习的参数，通常用于自定义的前向传播函数时执行各种的非线性操作"
   ]
  },
  {
   "cell_type": "markdown",
   "id": "34e1f3fd",
   "metadata": {},
   "source": [
    "## NLLLoss\n",
    "Negative Log Likelihood Loss 最大似然函数"
   ]
  },
  {
   "cell_type": "code",
   "execution_count": 2,
   "id": "d4852201",
   "metadata": {
    "ExecuteTime": {
     "end_time": "2024-03-26T14:23:46.906829800Z",
     "start_time": "2024-03-26T14:23:45.650659100Z"
    }
   },
   "outputs": [
    {
     "data": {
      "text/plain": [
       "<torch._C.Generator at 0x7fbf280f4e30>"
      ]
     },
     "execution_count": 2,
     "metadata": {},
     "output_type": "execute_result"
    }
   ],
   "source": [
    "import torch\n",
    "import torch.nn as nn\n",
    "import torch.nn.functional as F\n",
    "seed=42\n",
    "torch.manual_seed(seed)"
   ]
  },
  {
   "cell_type": "code",
   "execution_count": 3,
   "id": "757c5563",
   "metadata": {
    "ExecuteTime": {
     "end_time": "2024-03-26T14:24:00.462903700Z",
     "start_time": "2024-03-26T14:24:00.421306900Z"
    }
   },
   "outputs": [
    {
     "data": {
      "text/plain": [
       "tensor([[ 0.3367,  0.1288,  0.2345,  0.2303],\n",
       "        [-1.1229, -0.1863,  2.2082, -0.6380],\n",
       "        [ 0.4617,  0.2674,  0.5349,  0.8094]])"
      ]
     },
     "execution_count": 3,
     "metadata": {},
     "output_type": "execute_result"
    }
   ],
   "source": [
    "logits = torch.randn(3,4)\n",
    "logits"
   ]
  },
  {
   "cell_type": "markdown",
   "id": "0a125f1e",
   "metadata": {},
   "source": [
    "## softmax 归一化\n",
    "$\\sigma(\\mathbf{z})_j=\\frac{e^{z_j}}{\\sum_{k=1}^Ke^{z_k}}\\quad\\mathrm{for~}j=1,\\ldots,K.$\n",
    "\n",
    "求 $q_k$"
   ]
  },
  {
   "cell_type": "code",
   "execution_count": 4,
   "id": "c120aa3b",
   "metadata": {
    "ExecuteTime": {
     "end_time": "2024-03-26T14:25:00.064385500Z",
     "start_time": "2024-03-26T14:25:00.020255800Z"
    }
   },
   "outputs": [
    {
     "data": {
      "text/plain": [
       "tensor([[0.2767, 0.2248, 0.2498, 0.2488],\n",
       "        [0.0302, 0.0770, 0.8439, 0.0490],\n",
       "        [0.2317, 0.1908, 0.2493, 0.3281]])"
      ]
     },
     "execution_count": 4,
     "metadata": {},
     "output_type": "execute_result"
    }
   ],
   "source": [
    "## Softmax\n",
    "sm = nn.Softmax(dim=-1)\n",
    "probs = sm(logits)\n",
    "probs"
   ]
  },
  {
   "cell_type": "code",
   "execution_count": 5,
   "id": "f05b3037",
   "metadata": {
    "ExecuteTime": {
     "end_time": "2024-03-26T14:25:14.411606700Z",
     "start_time": "2024-03-26T14:25:14.392536800Z"
    }
   },
   "outputs": [
    {
     "data": {
      "text/plain": [
       "tensor([[0.2767, 0.2248, 0.2498, 0.2488],\n",
       "        [0.0302, 0.0770, 0.8439, 0.0490],\n",
       "        [0.2317, 0.1908, 0.2493, 0.3281]])"
      ]
     },
     "execution_count": 5,
     "metadata": {},
     "output_type": "execute_result"
    }
   ],
   "source": [
    "## F.softmax\n",
    "F.softmax(logits, dim=-1)"
   ]
  },
  {
   "cell_type": "code",
   "execution_count": 6,
   "id": "03615135",
   "metadata": {
    "ExecuteTime": {
     "end_time": "2024-03-26T14:25:20.828421600Z",
     "start_time": "2024-03-26T14:25:20.787899200Z"
    }
   },
   "outputs": [
    {
     "data": {
      "text/plain": [
       "tensor([[-1.2849, -1.4928, -1.3871, -1.3912],\n",
       "        [-3.5008, -2.5643, -0.1698, -3.0160],\n",
       "        [-1.4621, -1.6565, -1.3889, -1.1144]])"
      ]
     },
     "execution_count": 6,
     "metadata": {},
     "output_type": "execute_result"
    }
   ],
   "source": [
    "## 对softmax结果进行log\n",
    "log_result = torch.log(probs)\n",
    "log_result"
   ]
  },
  {
   "cell_type": "markdown",
   "id": "9d268be8",
   "metadata": {},
   "source": [
    "## LogSoftmax 是对softmax结果取log值，为负值\n",
    "\n",
    "求 $logq_k$"
   ]
  },
  {
   "cell_type": "code",
   "execution_count": 7,
   "id": "a90b6d89",
   "metadata": {
    "ExecuteTime": {
     "end_time": "2024-03-26T14:26:16.396853900Z",
     "start_time": "2024-03-26T14:26:16.351413200Z"
    }
   },
   "outputs": [
    {
     "data": {
      "text/plain": [
       "tensor([[-1.2849, -1.4928, -1.3871, -1.3912],\n",
       "        [-3.5008, -2.5643, -0.1698, -3.0160],\n",
       "        [-1.4621, -1.6565, -1.3889, -1.1144]])"
      ]
     },
     "execution_count": 7,
     "metadata": {},
     "output_type": "execute_result"
    }
   ],
   "source": [
    "## LogSoftmax \n",
    "# 对softmax结果进行log\n",
    "log_sm = nn.LogSoftmax(dim=1)\n",
    "log_probs  = log_sm(logits)\n",
    "log_probs"
   ]
  },
  {
   "cell_type": "markdown",
   "id": "2151581c",
   "metadata": {},
   "source": [
    "## nn.NLLLoss 的结果就是LogSoftmax输出与Label对应的的值取出，取反，求均值\n",
    "\n",
    "计算 $-\\sum_{k=1}^N(p_k * logq_k)$ 或 $-\\frac{1}{N} \\sum_{k=1}^N(p_k * logq_k)$\n",
    "\n",
    "https://pytorch.org/docs/stable/generated/torch.nn.NLLLoss.html"
   ]
  },
  {
   "cell_type": "code",
   "execution_count": 8,
   "id": "2d870419",
   "metadata": {
    "ExecuteTime": {
     "end_time": "2024-03-26T14:37:50.906550400Z",
     "start_time": "2024-03-26T14:37:50.859571200Z"
    },
    "scrolled": true
   },
   "outputs": [
    {
     "data": {
      "text/plain": [
       "tensor(2.1275)"
      ]
     },
     "execution_count": 8,
     "metadata": {},
     "output_type": "execute_result"
    }
   ],
   "source": [
    "labels = torch.tensor([1,0,2])\n",
    "loss_fn =  nn.NLLLoss(reduction=\"sum\") # reduction='mean'  'none','sum','mean', default is 'mean'\n",
    "loss = loss_fn(log_probs, labels)\n",
    "loss/3"
   ]
  },
  {
   "cell_type": "code",
   "execution_count": 9,
   "id": "c753e64c",
   "metadata": {
    "ExecuteTime": {
     "end_time": "2024-03-26T14:30:06.993005300Z",
     "start_time": "2024-03-26T14:30:06.973694400Z"
    }
   },
   "outputs": [
    {
     "data": {
      "text/plain": [
       "tensor(2.1275)"
      ]
     },
     "execution_count": 9,
     "metadata": {},
     "output_type": "execute_result"
    }
   ],
   "source": [
    "# 1,0,2\n",
    "-(log_probs[0][1]+log_probs[1][0]+log_probs[2][2])/3"
   ]
  },
  {
   "cell_type": "code",
   "execution_count": 10,
   "id": "5d47f5c967f8b810",
   "metadata": {
    "ExecuteTime": {
     "end_time": "2024-03-26T14:31:23.276582400Z",
     "start_time": "2024-03-26T14:31:23.229790Z"
    },
    "collapsed": false
   },
   "outputs": [
    {
     "data": {
      "text/plain": [
       "tensor(2.1275)"
      ]
     },
     "execution_count": 10,
     "metadata": {},
     "output_type": "execute_result"
    }
   ],
   "source": [
    "loss_fn2 = nn.NLLLoss(reduction=\"mean\")\n",
    "loss = loss_fn2(log_probs, labels)\n",
    "loss"
   ]
  },
  {
   "cell_type": "markdown",
   "id": "cbc37ba8",
   "metadata": {},
   "source": [
    "## CrossEntropyLoss\n",
    "softmax+log+NULLLoss\n",
    "\n",
    "$H(p,q)=-\\sum_{k=1}^N(p_k*logq_k)$"
   ]
  },
  {
   "cell_type": "code",
   "execution_count": 11,
   "id": "e8827d7b",
   "metadata": {
    "ExecuteTime": {
     "end_time": "2024-03-26T14:38:20.024215800Z",
     "start_time": "2024-03-26T14:38:19.980224900Z"
    }
   },
   "outputs": [
    {
     "data": {
      "text/plain": [
       "tensor(2.1275)"
      ]
     },
     "execution_count": 11,
     "metadata": {},
     "output_type": "execute_result"
    }
   ],
   "source": [
    "loss_fn3 = nn.CrossEntropyLoss(reduction='sum') # reduction='mean' or 'sum'\n",
    "loss_cross = loss_fn3(logits, labels)\n",
    "loss_cross/3"
   ]
  },
  {
   "cell_type": "code",
   "execution_count": 12,
   "id": "f29f18491faa9b9b",
   "metadata": {
    "ExecuteTime": {
     "end_time": "2024-03-26T14:39:10.956716700Z",
     "start_time": "2024-03-26T14:39:10.912189800Z"
    },
    "collapsed": false
   },
   "outputs": [
    {
     "data": {
      "text/plain": [
       "tensor(2.1275)"
      ]
     },
     "execution_count": 12,
     "metadata": {},
     "output_type": "execute_result"
    }
   ],
   "source": [
    "loss_fn3 = nn.CrossEntropyLoss() # reduction='mean' or 'sum', default 'mean'\n",
    "loss_cross = loss_fn3(logits, labels)\n",
    "loss_cross"
   ]
  },
  {
   "cell_type": "code",
   "execution_count": null,
   "id": "4edf3e6d3137b7e7",
   "metadata": {
    "collapsed": false
   },
   "outputs": [],
   "source": []
  }
 ],
 "metadata": {
  "kernelspec": {
   "display_name": "Python 3 (ipykernel)",
   "language": "python",
   "name": "python3"
  },
  "language_info": {
   "codemirror_mode": {
    "name": "ipython",
    "version": 3
   },
   "file_extension": ".py",
   "mimetype": "text/x-python",
   "name": "python",
   "nbconvert_exporter": "python",
   "pygments_lexer": "ipython3",
   "version": "3.10.11"
  }
 },
 "nbformat": 4,
 "nbformat_minor": 5
}
